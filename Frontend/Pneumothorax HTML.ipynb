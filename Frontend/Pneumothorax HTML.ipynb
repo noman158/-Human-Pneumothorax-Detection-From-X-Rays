{
 "cells": [
  {
   "cell_type": "code",
   "execution_count": 1,
   "id": "00780007",
   "metadata": {},
   "outputs": [],
   "source": [
    "from flask import Flask\n",
    "from flask_wtf import FlaskForm\n",
    "from wtforms import StringField, SubmitField\n",
    "from wtforms.validators import DataRequired\n",
    "from flask import render_template"
   ]
  },
  {
   "cell_type": "code",
   "execution_count": null,
   "id": "3a407612",
   "metadata": {},
   "outputs": [
    {
     "name": "stdout",
     "output_type": "stream",
     "text": [
      " * Serving Flask app \"__main__\" (lazy loading)\n",
      " * Environment: production\n",
      "\u001b[31m   WARNING: This is a development server. Do not use it in a production deployment.\u001b[0m\n",
      "\u001b[2m   Use a production WSGI server instead.\u001b[0m\n",
      " * Debug mode: off\n"
     ]
    },
    {
     "name": "stderr",
     "output_type": "stream",
     "text": [
      " * Running on http://127.0.0.1:5004/ (Press CTRL+C to quit)\n",
      "127.0.0.1 - - [14/May/2023 20:38:00] \"GET / HTTP/1.1\" 200 -\n",
      "127.0.0.1 - - [14/May/2023 20:49:34] \"POST / HTTP/1.1\" 200 -\n"
     ]
    },
    {
     "name": "stdout",
     "output_type": "stream",
     "text": [
      "(1024, 1024, 3)\n"
     ]
    },
    {
     "name": "stderr",
     "output_type": "stream",
     "text": [
      "127.0.0.1 - - [14/May/2023 20:49:38] \"POST / HTTP/1.1\" 200 -\n"
     ]
    },
    {
     "name": "stdout",
     "output_type": "stream",
     "text": [
      "(1024, 1024, 3)\n"
     ]
    },
    {
     "name": "stderr",
     "output_type": "stream",
     "text": [
      "127.0.0.1 - - [14/May/2023 21:47:11] \"GET / HTTP/1.1\" 200 -\n"
     ]
    }
   ],
   "source": [
    "import cv2\n",
    "from flask import Flask, request, render_template\n",
    "\n",
    "app = Flask(__name__)\n",
    "\n",
    "@app.route('/', methods=['GET', 'POST'])\n",
    "def upload_file():\n",
    "    if request.method == 'POST':\n",
    "        file = request.files['file']\n",
    "        file.save('img.jpg')\n",
    "        img=cv2.imread('img.jpg')\n",
    "        print(img.shape)\n",
    "        \n",
    "        return 'File Uploaded Successfully'\n",
    "    return render_template('upload.html')\n",
    "\n",
    "if __name__ == '__main__':\n",
    "    app.run(port=5004)\n"
   ]
  },
  {
   "cell_type": "code",
   "execution_count": null,
   "id": "4d4b8409",
   "metadata": {},
   "outputs": [],
   "source": []
  }
 ],
 "metadata": {
  "kernelspec": {
   "display_name": "Python 3 (ipykernel)",
   "language": "python",
   "name": "python3"
  },
  "language_info": {
   "codemirror_mode": {
    "name": "ipython",
    "version": 3
   },
   "file_extension": ".py",
   "mimetype": "text/x-python",
   "name": "python",
   "nbconvert_exporter": "python",
   "pygments_lexer": "ipython3",
   "version": "3.9.13"
  }
 },
 "nbformat": 4,
 "nbformat_minor": 5
}
