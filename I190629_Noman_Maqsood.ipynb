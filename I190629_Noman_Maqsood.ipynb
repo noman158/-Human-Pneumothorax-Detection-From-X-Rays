{
  "cells": [
    {
      "cell_type": "code",
      "execution_count": null,
      "metadata": {
        "id": "c_V7Q9GfWmR6"
      },
      "outputs": [],
      "source": [
        "! pip install -q kaggle #installing kaggle"
      ]
    },
    {
      "cell_type": "code",
      "execution_count": null,
      "metadata": {
        "colab": {
          "base_uri": "https://localhost:8080/",
          "height": 90
        },
        "id": "ewGATCCIXA-F",
        "outputId": "f19e4116-2729-4cbc-b300-93374d3b2ee6"
      },
      "outputs": [
        {
          "output_type": "display_data",
          "data": {
            "text/plain": [
              "<IPython.core.display.HTML object>"
            ],
            "text/html": [
              "\n",
              "     <input type=\"file\" id=\"files-16598e6b-74df-47db-9d19-ebc269cef54f\" name=\"files[]\" multiple disabled\n",
              "        style=\"border:none\" />\n",
              "     <output id=\"result-16598e6b-74df-47db-9d19-ebc269cef54f\">\n",
              "      Upload widget is only available when the cell has been executed in the\n",
              "      current browser session. Please rerun this cell to enable.\n",
              "      </output>\n",
              "      <script>// Copyright 2017 Google LLC\n",
              "//\n",
              "// Licensed under the Apache License, Version 2.0 (the \"License\");\n",
              "// you may not use this file except in compliance with the License.\n",
              "// You may obtain a copy of the License at\n",
              "//\n",
              "//      http://www.apache.org/licenses/LICENSE-2.0\n",
              "//\n",
              "// Unless required by applicable law or agreed to in writing, software\n",
              "// distributed under the License is distributed on an \"AS IS\" BASIS,\n",
              "// WITHOUT WARRANTIES OR CONDITIONS OF ANY KIND, either express or implied.\n",
              "// See the License for the specific language governing permissions and\n",
              "// limitations under the License.\n",
              "\n",
              "/**\n",
              " * @fileoverview Helpers for google.colab Python module.\n",
              " */\n",
              "(function(scope) {\n",
              "function span(text, styleAttributes = {}) {\n",
              "  const element = document.createElement('span');\n",
              "  element.textContent = text;\n",
              "  for (const key of Object.keys(styleAttributes)) {\n",
              "    element.style[key] = styleAttributes[key];\n",
              "  }\n",
              "  return element;\n",
              "}\n",
              "\n",
              "// Max number of bytes which will be uploaded at a time.\n",
              "const MAX_PAYLOAD_SIZE = 100 * 1024;\n",
              "\n",
              "function _uploadFiles(inputId, outputId) {\n",
              "  const steps = uploadFilesStep(inputId, outputId);\n",
              "  const outputElement = document.getElementById(outputId);\n",
              "  // Cache steps on the outputElement to make it available for the next call\n",
              "  // to uploadFilesContinue from Python.\n",
              "  outputElement.steps = steps;\n",
              "\n",
              "  return _uploadFilesContinue(outputId);\n",
              "}\n",
              "\n",
              "// This is roughly an async generator (not supported in the browser yet),\n",
              "// where there are multiple asynchronous steps and the Python side is going\n",
              "// to poll for completion of each step.\n",
              "// This uses a Promise to block the python side on completion of each step,\n",
              "// then passes the result of the previous step as the input to the next step.\n",
              "function _uploadFilesContinue(outputId) {\n",
              "  const outputElement = document.getElementById(outputId);\n",
              "  const steps = outputElement.steps;\n",
              "\n",
              "  const next = steps.next(outputElement.lastPromiseValue);\n",
              "  return Promise.resolve(next.value.promise).then((value) => {\n",
              "    // Cache the last promise value to make it available to the next\n",
              "    // step of the generator.\n",
              "    outputElement.lastPromiseValue = value;\n",
              "    return next.value.response;\n",
              "  });\n",
              "}\n",
              "\n",
              "/**\n",
              " * Generator function which is called between each async step of the upload\n",
              " * process.\n",
              " * @param {string} inputId Element ID of the input file picker element.\n",
              " * @param {string} outputId Element ID of the output display.\n",
              " * @return {!Iterable<!Object>} Iterable of next steps.\n",
              " */\n",
              "function* uploadFilesStep(inputId, outputId) {\n",
              "  const inputElement = document.getElementById(inputId);\n",
              "  inputElement.disabled = false;\n",
              "\n",
              "  const outputElement = document.getElementById(outputId);\n",
              "  outputElement.innerHTML = '';\n",
              "\n",
              "  const pickedPromise = new Promise((resolve) => {\n",
              "    inputElement.addEventListener('change', (e) => {\n",
              "      resolve(e.target.files);\n",
              "    });\n",
              "  });\n",
              "\n",
              "  const cancel = document.createElement('button');\n",
              "  inputElement.parentElement.appendChild(cancel);\n",
              "  cancel.textContent = 'Cancel upload';\n",
              "  const cancelPromise = new Promise((resolve) => {\n",
              "    cancel.onclick = () => {\n",
              "      resolve(null);\n",
              "    };\n",
              "  });\n",
              "\n",
              "  // Wait for the user to pick the files.\n",
              "  const files = yield {\n",
              "    promise: Promise.race([pickedPromise, cancelPromise]),\n",
              "    response: {\n",
              "      action: 'starting',\n",
              "    }\n",
              "  };\n",
              "\n",
              "  cancel.remove();\n",
              "\n",
              "  // Disable the input element since further picks are not allowed.\n",
              "  inputElement.disabled = true;\n",
              "\n",
              "  if (!files) {\n",
              "    return {\n",
              "      response: {\n",
              "        action: 'complete',\n",
              "      }\n",
              "    };\n",
              "  }\n",
              "\n",
              "  for (const file of files) {\n",
              "    const li = document.createElement('li');\n",
              "    li.append(span(file.name, {fontWeight: 'bold'}));\n",
              "    li.append(span(\n",
              "        `(${file.type || 'n/a'}) - ${file.size} bytes, ` +\n",
              "        `last modified: ${\n",
              "            file.lastModifiedDate ? file.lastModifiedDate.toLocaleDateString() :\n",
              "                                    'n/a'} - `));\n",
              "    const percent = span('0% done');\n",
              "    li.appendChild(percent);\n",
              "\n",
              "    outputElement.appendChild(li);\n",
              "\n",
              "    const fileDataPromise = new Promise((resolve) => {\n",
              "      const reader = new FileReader();\n",
              "      reader.onload = (e) => {\n",
              "        resolve(e.target.result);\n",
              "      };\n",
              "      reader.readAsArrayBuffer(file);\n",
              "    });\n",
              "    // Wait for the data to be ready.\n",
              "    let fileData = yield {\n",
              "      promise: fileDataPromise,\n",
              "      response: {\n",
              "        action: 'continue',\n",
              "      }\n",
              "    };\n",
              "\n",
              "    // Use a chunked sending to avoid message size limits. See b/62115660.\n",
              "    let position = 0;\n",
              "    do {\n",
              "      const length = Math.min(fileData.byteLength - position, MAX_PAYLOAD_SIZE);\n",
              "      const chunk = new Uint8Array(fileData, position, length);\n",
              "      position += length;\n",
              "\n",
              "      const base64 = btoa(String.fromCharCode.apply(null, chunk));\n",
              "      yield {\n",
              "        response: {\n",
              "          action: 'append',\n",
              "          file: file.name,\n",
              "          data: base64,\n",
              "        },\n",
              "      };\n",
              "\n",
              "      let percentDone = fileData.byteLength === 0 ?\n",
              "          100 :\n",
              "          Math.round((position / fileData.byteLength) * 100);\n",
              "      percent.textContent = `${percentDone}% done`;\n",
              "\n",
              "    } while (position < fileData.byteLength);\n",
              "  }\n",
              "\n",
              "  // All done.\n",
              "  yield {\n",
              "    response: {\n",
              "      action: 'complete',\n",
              "    }\n",
              "  };\n",
              "}\n",
              "\n",
              "scope.google = scope.google || {};\n",
              "scope.google.colab = scope.google.colab || {};\n",
              "scope.google.colab._files = {\n",
              "  _uploadFiles,\n",
              "  _uploadFilesContinue,\n",
              "};\n",
              "})(self);\n",
              "</script> "
            ]
          },
          "metadata": {}
        },
        {
          "output_type": "stream",
          "name": "stdout",
          "text": [
            "Saving kaggle.json to kaggle.json\n"
          ]
        },
        {
          "output_type": "execute_result",
          "data": {
            "text/plain": [
              "{'kaggle.json': b'{\"username\":\"saadahmad127\",\"key\":\"5d229b238808113c0cddf9a67ceddbdd\"}'}"
            ]
          },
          "metadata": {},
          "execution_count": 2
        }
      ],
      "source": [
        "from google.colab import files\n",
        "files.upload()                        # connecting kaggle with google colab via jason file"
      ]
    },
    {
      "cell_type": "code",
      "execution_count": null,
      "metadata": {
        "id": "YP8v8KCTXJ-m"
      },
      "outputs": [],
      "source": [
        "! mkdir ~/.kaggle # kagle integration"
      ]
    },
    {
      "cell_type": "code",
      "execution_count": null,
      "metadata": {
        "id": "kI-MFTZFXM9t"
      },
      "outputs": [],
      "source": [
        "! cp kaggle.json ~/.kaggle/ # kagle json integration"
      ]
    },
    {
      "cell_type": "code",
      "execution_count": null,
      "metadata": {
        "id": "_aLxjXFNXR5T"
      },
      "outputs": [],
      "source": [
        "! chmod 600 ~/.kaggle/kaggle.json # kagle integration"
      ]
    },
    {
      "cell_type": "code",
      "execution_count": null,
      "metadata": {
        "colab": {
          "base_uri": "https://localhost:8080/"
        },
        "id": "JqMLoCE7XyZB",
        "outputId": "55ef9fe5-d41c-4939-cb8d-fc76f0e1843d"
      },
      "outputs": [
        {
          "output_type": "stream",
          "name": "stdout",
          "text": [
            "Downloading pneumothorax-binary-classification-task.zip to /content\n",
            "100% 774M/774M [00:09<00:00, 80.4MB/s]\n",
            "100% 774M/774M [00:09<00:00, 89.3MB/s]\n"
          ]
        }
      ],
      "source": [
        "! kaggle datasets download -d volodymyrgavrysh/pneumothorax-binary-classification-task -p /content # downloadind dataset from kaggle"
      ]
    },
    {
      "cell_type": "code",
      "execution_count": null,
      "metadata": {
        "id": "bRyC0Ax_X7qz"
      },
      "outputs": [],
      "source": [
        "!unzip '/content/pneumothorax-binary-classification-task.zip'"
      ]
    },
    {
      "cell_type": "markdown",
      "metadata": {
        "id": "8t1kePL2bSZK"
      },
      "source": [
        "# Data Processing"
      ]
    },
    {
      "cell_type": "markdown",
      "metadata": {
        "id": "FeWw_vQCTcfE"
      },
      "source": [
        "# New Section"
      ]
    },
    {
      "cell_type": "code",
      "execution_count": null,
      "metadata": {
        "id": "RQEiBThSbPaX"
      },
      "outputs": [],
      "source": [
        "#Data Processing"
      ]
    },
    {
      "cell_type": "code",
      "execution_count": null,
      "metadata": {
        "id": "snrHAhH_YK3Y"
      },
      "outputs": [],
      "source": [
        "import pandas as pd"
      ]
    },
    {
      "cell_type": "code",
      "execution_count": null,
      "metadata": {
        "id": "0iYFqOyjYg1W"
      },
      "outputs": [],
      "source": [
        "df = pd.read_csv('/content/train_data.csv')"
      ]
    },
    {
      "cell_type": "code",
      "execution_count": null,
      "metadata": {
        "id": "Eu5rwjE5YlJw"
      },
      "outputs": [],
      "source": [
        "df"
      ]
    },
    {
      "cell_type": "code",
      "execution_count": null,
      "metadata": {
        "colab": {
          "base_uri": "https://localhost:8080/"
        },
        "id": "dVuuOh1ZYlXO",
        "outputId": "78407dfa-0d31-4119-f4af-9fa1565390e0"
      },
      "outputs": [
        {
          "data": {
            "text/plain": [
              "1    1597\n",
              "0     430\n",
              "Name: target, dtype: int64"
            ]
          },
          "execution_count": 4,
          "metadata": {},
          "output_type": "execute_result"
        }
      ],
      "source": [
        "df['target'].value_counts()"
      ]
    },
    {
      "cell_type": "code",
      "execution_count": null,
      "metadata": {
        "colab": {
          "base_uri": "https://localhost:8080/"
        },
        "id": "5RcbhjHOaV4a",
        "outputId": "f72dd0a7-3947-44e9-a474-49b572d460c8"
      },
      "outputs": [
        {
          "data": {
            "text/plain": [
              "Index(['Unnamed: 0.1', 'Unnamed: 0', 'file_name', 'target'], dtype='object')"
            ]
          },
          "execution_count": 20,
          "metadata": {},
          "output_type": "execute_result"
        }
      ],
      "source": []
    },
    {
      "cell_type": "code",
      "execution_count": null,
      "metadata": {
        "id": "osHrta1Yjm9_"
      },
      "outputs": [],
      "source": [
        "# importing necessary Libraries\n",
        "import os\n",
        "import numpy as np\n",
        "import cv2\n",
        "import matplotlib.pyplot as plt\n",
        "from sklearn.model_selection import train_test_split\n",
        "from skimage import exposure\n",
        "from skimage.feature import hog"
      ]
    },
    {
      "cell_type": "code",
      "execution_count": null,
      "metadata": {
        "id": "irldjR5T9S_e"
      },
      "outputs": [],
      "source": [
        "!mkdir '/content/separated' "
      ]
    },
    {
      "cell_type": "code",
      "execution_count": null,
      "metadata": {
        "id": "N_vnWe0j4j_l"
      },
      "outputs": [],
      "source": [
        "import pandas as pd\n",
        "import shutil\n",
        "import os\n",
        "\n",
        "# Read the CSV file with labels\n",
        "labels_df = pd.read_csv('/content/train_data.csv')\n",
        "\n",
        "# Create the output directories for each class\n",
        "output_dir_normal = '/content/separated/normal_images/'\n",
        "output_dir_pneumothorax = '/content/separated/pneumothorax_images/'\n",
        "os.makedirs(output_dir_normal, exist_ok=True)\n",
        "os.makedirs(output_dir_pneumothorax, exist_ok=True)\n",
        "\n",
        "# Loop through each row in the labels dataframe\n",
        "for i in range(len(labels_df)):\n",
        "    # Get the filename and class label\n",
        "    filename ='/content/small_train_data_set/small_train_data_set/' + labels_df['file_name'][i]\n",
        "\n",
        "    class_label = labels_df['target'][i]\n",
        "    \n",
        "    # Create the output path based on the class label\n",
        "    if class_label == 0:\n",
        "        output_path = os.path.join(output_dir_normal, labels_df['file_name'][i])\n",
        "    else:\n",
        "        output_path = os.path.join(output_dir_pneumothorax, labels_df['file_name'][i])\n",
        "    print(filename, output_path)\n",
        "    # Copy the image file to the output directory\n",
        "    shutil.copy(filename, output_path)\n"
      ]
    },
    {
      "cell_type": "code",
      "execution_count": null,
      "metadata": {
        "id": "mzaP2yA2dpfA"
      },
      "outputs": [],
      "source": [
        "import os\n",
        "import numpy as np\n",
        "import cv2\n",
        "from keras.preprocessing.image import ImageDataGenerator\n"
      ]
    },
    {
      "cell_type": "code",
      "execution_count": null,
      "metadata": {
        "id": "FUEcP9Ilu5V1"
      },
      "outputs": [],
      "source": [
        "data_gen = ImageDataGenerator(rotation_range=20,\n",
        "                              width_shift_range=0.1,\n",
        "                              height_shift_range=0.1,\n",
        "                              shear_range=0.1,\n",
        "                              zoom_range=0.1,\n",
        "                              horizontal_flip=True,\n",
        "                              vertical_flip=True,\n",
        "                              fill_mode='nearest')\n"
      ]
    },
    {
      "cell_type": "code",
      "execution_count": null,
      "metadata": {
        "id": "AviZ-DFQwiD0"
      },
      "outputs": [],
      "source": [
        "!mkdir '/content/normal'\n",
        "!mkdir '/content/normal/normal'\n"
      ]
    },
    {
      "cell_type": "code",
      "execution_count": null,
      "metadata": {
        "id": "Xk3gu8AGwFSf"
      },
      "outputs": [],
      "source": [
        "!cp -r /content/separated/normal_images/* '/content/normal/normal'  #copying images\n"
      ]
    },
    {
      "cell_type": "code",
      "execution_count": null,
      "metadata": {
        "id": "EpluICdG6Pe0"
      },
      "outputs": [],
      "source": [
        "data_path = '/content/normal' # path of normal images\n"
      ]
    },
    {
      "cell_type": "code",
      "execution_count": null,
      "metadata": {
        "colab": {
          "base_uri": "https://localhost:8080/"
        },
        "id": "m5OKYVU4vKDA",
        "outputId": "5ef6537e-42de-4d6f-8cf0-9dbcbe7e3607"
      },
      "outputs": [
        {
          "output_type": "stream",
          "name": "stdout",
          "text": [
            "Found 3261 images belonging to 2 classes.\n"
          ]
        }
      ],
      "source": [
        "batch_size = 32  # making bathc sizes for datset\n",
        "target_size = (256, 256)\n",
        "\n",
        "data_generator = data_gen.flow_from_directory(data_path,\n",
        "                                               target_size=target_size,\n",
        "                                               batch_size=batch_size\n",
        "                                               )\n"
      ]
    },
    {
      "cell_type": "code",
      "execution_count": null,
      "metadata": {
        "id": "GtKc665b_Hc7"
      },
      "outputs": [],
      "source": [
        "!mkdir '/content/augmented'  #agumentation of dataset"
      ]
    },
    {
      "cell_type": "code",
      "execution_count": null,
      "metadata": {
        "id": "cn4Qogngz-H2"
      },
      "outputs": [],
      "source": [
        "save_path = '/content/augmented/'\n"
      ]
    },
    {
      "cell_type": "code",
      "execution_count": null,
      "metadata": {
        "id": "sjNZABq-8MiP"
      },
      "outputs": [],
      "source": [
        "import math"
      ]
    },
    {
      "cell_type": "code",
      "execution_count": null,
      "metadata": {
        "colab": {
          "base_uri": "https://localhost:8080/"
        },
        "id": "h0GLqvd7_zHo",
        "outputId": "55afb34d-4522-4c86-d868-b394dbd26ab6"
      },
      "outputs": [
        {
          "output_type": "execute_result",
          "data": {
            "text/plain": [
              "3"
            ]
          },
          "metadata": {},
          "execution_count": 19
        }
      ],
      "source": [
        "math.ceil(2.1)"
      ]
    },
    {
      "cell_type": "code",
      "execution_count": null,
      "metadata": {
        "colab": {
          "base_uri": "https://localhost:8080/"
        },
        "id": "-CQltd4w0K4K",
        "outputId": "83311564-87ab-4a6c-a010-3168f9391da6"
      },
      "outputs": [
        {
          "output_type": "stream",
          "name": "stdout",
          "text": [
            "Found 430 images belonging to 1 classes.\n",
            "Found 430 images belonging to 1 classes.\n",
            "Found 430 images belonging to 1 classes.\n",
            "Found 430 images belonging to 1 classes.\n"
          ]
        }
      ],
      "source": [
        "n_augmented_images = 4 #separating normal and dieseas images\n",
        "augmented=[]\n",
        "augmented_labels=[]\n",
        "for i in range(n_augmented_images):\n",
        "    data_generator = data_gen.flow_from_directory(data_path,\n",
        "                                               target_size=target_size,\n",
        "                                               batch_size=batch_size)\n",
        "    for k in range(math.floor(430/batch_size)):                                       \n",
        "      batch = data_generator.next()\n",
        "      images = batch[0]\n",
        "      labels=batch[1]\n",
        "\n",
        "      for j in range(batch_size):\n",
        "          image = images[j]\n",
        "          \n",
        "          filename = 'image_{}_{}_{}.png'.format(i,k, j)\n",
        "          file_path = os.path.join(save_path, filename)\n",
        "          augmented.append(file_path)\n",
        "          augmented_labels.append(labels[j])\n",
        "\n",
        "          cv2.imwrite(file_path, image)\n"
      ]
    },
    {
      "cell_type": "code",
      "execution_count": null,
      "metadata": {
        "colab": {
          "base_uri": "https://localhost:8080/"
        },
        "id": "ydf1KmP16pkr",
        "outputId": "8cfc33a7-42ce-45d8-fa9e-30ee036c0a90"
      },
      "outputs": [
        {
          "output_type": "execute_result",
          "data": {
            "text/plain": [
              "1664"
            ]
          },
          "metadata": {},
          "execution_count": 21
        }
      ],
      "source": [
        "len(augmented_labels)"
      ]
    },
    {
      "cell_type": "code",
      "execution_count": null,
      "metadata": {
        "id": "X7q6E3aG6ssq"
      },
      "outputs": [],
      "source": [
        "!mkdir '/content/final_augmented'\n",
        "!mkdir '/content/final_augmented/normal'\n",
        "!mkdir '/content/final_augmented/disease'\n",
        "\n"
      ]
    },
    {
      "cell_type": "code",
      "execution_count": null,
      "metadata": {
        "id": "4eayaNnZ7LFJ"
      },
      "outputs": [],
      "source": [
        "!cp -r /content/augmented/* '/content/final_augmented/normal'\n"
      ]
    },
    {
      "cell_type": "code",
      "execution_count": null,
      "metadata": {
        "id": "SlK4RvU5A_Oz"
      },
      "outputs": [],
      "source": [
        "!cp -r /content/separated/pneumothorax_images/* '/content/final_augmented/disease'\n"
      ]
    },
    {
      "cell_type": "code",
      "execution_count": null,
      "metadata": {
        "id": "N0z3M1-uBGoN"
      },
      "outputs": [],
      "source": [
        "data_path = '/content/final_augmented'"
      ]
    },
    {
      "cell_type": "code",
      "execution_count": null,
      "metadata": {
        "colab": {
          "base_uri": "https://localhost:8080/"
        },
        "id": "bwdcvN_-BSdS",
        "outputId": "2bae2d70-cdcf-4cbf-b656-2588aa2aadaa"
      },
      "outputs": [
        {
          "output_type": "stream",
          "name": "stdout",
          "text": [
            "Found 3261 images belonging to 2 classes.\n"
          ]
        }
      ],
      "source": [
        "data_gen = ImageDataGenerator()\n",
        "batch_size = 32\n",
        "target_size = (256, 256)\n",
        "\n",
        "data_generator = data_gen.flow_from_directory(data_path,\n",
        "                                               target_size=target_size,\n",
        "                                               batch_size=batch_size\n",
        "                                               )"
      ]
    },
    {
      "cell_type": "code",
      "source": [
        "3261/32"
      ],
      "metadata": {
        "colab": {
          "base_uri": "https://localhost:8080/"
        },
        "id": "33rvjHcuFO5x",
        "outputId": "a5b2cdf1-c3e5-4d31-f781-8c6a225f8851"
      },
      "execution_count": null,
      "outputs": [
        {
          "output_type": "execute_result",
          "data": {
            "text/plain": [
              "101.90625"
            ]
          },
          "metadata": {},
          "execution_count": 28
        }
      ]
    },
    {
      "cell_type": "code",
      "source": [
        "import os\n",
        "import numpy as np\n",
        "import cv2\n",
        "import matplotlib.pyplot as plt\n",
        "from sklearn.model_selection import train_test_split\n",
        "from skimage import exposure\n",
        "from skimage.feature import hog"
      ],
      "metadata": {
        "id": "Trm6cR7kGhLl"
      },
      "execution_count": null,
      "outputs": []
    },
    {
      "cell_type": "code",
      "source": [],
      "metadata": {
        "id": "Tk5QGO_qIrfT"
      },
      "execution_count": null,
      "outputs": []
    },
    {
      "cell_type": "code",
      "source": [
        "features=[]\n",
        "labels=[]\n",
        "for i in range(math.floor(3261/batch_size)):                                       \n",
        "  batch = data_generator.next()\n",
        "  images = batch[0]\n",
        "  labels_batch=batch[1]\n",
        "  labels.extend(labels_batch)\n",
        "  for j in range(batch_size):\n",
        "      image = images[j]\n",
        "      gray = cv2.cvtColor(image, cv2.COLOR_BGR2GRAY)\n",
        "        \n",
        "      # Apply histogram equalization\n",
        "      eq_image = exposure.equalize_hist(gray)\n",
        "      \n",
        "      # Apply image resizing or cropping\n",
        "      resized_image = cv2.resize(eq_image, (256, 256))\n",
        "      hog_features = hog(resized_image, orientations=9, pixels_per_cell=(8, 8), cells_per_block=(3, 3), block_norm='L2-Hys')\n",
        "    \n",
        "    # Append the HOG features and its label to the features and labels lists\n",
        "      features.append(hog_features)\n",
        "      \n"
      ],
      "metadata": {
        "id": "moHMwlTsFCG3"
      },
      "execution_count": null,
      "outputs": []
    },
    {
      "cell_type": "code",
      "source": [
        "data_generator.class_indices"
      ],
      "metadata": {
        "colab": {
          "base_uri": "https://localhost:8080/"
        },
        "id": "kNCexkJZHzJa",
        "outputId": "873c657e-463b-4da1-da2a-ee217dcf1280"
      },
      "execution_count": null,
      "outputs": [
        {
          "output_type": "execute_result",
          "data": {
            "text/plain": [
              "{'disease': 0, 'normal': 1}"
            ]
          },
          "metadata": {},
          "execution_count": 39
        }
      ]
    },
    {
      "cell_type": "code",
      "source": [
        "lab=[]\n",
        "for i in labels:\n",
        "  if (i==[0,1]).all():\n",
        "    lab.append(0)\n",
        "  else:\n",
        "    lab.append(1)\n",
        "    "
      ],
      "metadata": {
        "id": "kz_4vPypGb11"
      },
      "execution_count": null,
      "outputs": []
    },
    {
      "cell_type": "code",
      "source": [
        "pd.Series(lab).value_counts()"
      ],
      "metadata": {
        "colab": {
          "base_uri": "https://localhost:8080/"
        },
        "id": "a8MyKwb6ItPU",
        "outputId": "fbd5b54a-af90-4826-bd32-22f6cf2ad1df"
      },
      "execution_count": null,
      "outputs": [
        {
          "output_type": "execute_result",
          "data": {
            "text/plain": [
              "0    1646\n",
              "1    1583\n",
              "dtype: int64"
            ]
          },
          "metadata": {},
          "execution_count": 44
        }
      ]
    },
    {
      "cell_type": "code",
      "source": [
        "# Split the data and labels into training and testing sets\n",
        "X_train, X_test, y_train, y_test = train_test_split(features, lab, test_size=0.2, random_state=42)\n",
        "\n",
        "from sklearn.svm import SVC\n",
        "\n",
        "# Initialize the SVM classifier\n",
        "clf = SVC(kernel='linear', probability=True, random_state=42)\n",
        "\n",
        "# Train the classifier on the training data and labels\n",
        "clf.fit(X_train, y_train)\n",
        "\n",
        "from sklearn.metrics import accuracy_score, confusion_matrix, classification_report\n",
        "\n",
        "# Make predictions on the testing data\n",
        "y_pred = clf.predict(X_test)\n",
        "\n",
        "# Calculate the accuracy of the classifier\n",
        "accuracy = accuracy_score(y_test, y_pred)\n",
        "print(\"Accuracy: {:.2f}%\".format(accuracy * 100))\n",
        "\n",
        "# Generate a confusion matrix and classification report\n",
        "conf_matrix = confusion_matrix(y_test, y_pred)\n",
        "print(\"Confusion Matrix:\\n\", conf_matrix)\n",
        "\n",
        "class_report = classification_report(y_test, y_pred)\n",
        "print(\"Classification Report:\\n\", class_report)\n"
      ],
      "metadata": {
        "colab": {
          "base_uri": "https://localhost:8080/"
        },
        "id": "eaN1j_LqHQFM",
        "outputId": "aece33c1-f014-48ea-f6ba-a8aa209cb39f"
      },
      "execution_count": null,
      "outputs": [
        {
          "output_type": "stream",
          "name": "stdout",
          "text": [
            "Accuracy: 98.45%\n",
            "Confusion Matrix:\n",
            " [[329   5]\n",
            " [  5 307]]\n",
            "Classification Report:\n",
            "               precision    recall  f1-score   support\n",
            "\n",
            "           0       0.99      0.99      0.99       334\n",
            "           1       0.98      0.98      0.98       312\n",
            "\n",
            "    accuracy                           0.98       646\n",
            "   macro avg       0.98      0.98      0.98       646\n",
            "weighted avg       0.98      0.98      0.98       646\n",
            "\n"
          ]
        }
      ]
    },
    {
      "cell_type": "code",
      "source": [
        "import pickle\n",
        "s = pickle.dumps(clf)\n",
        "clf2 = pickle.loads(s)\n",
        "clf2.predict(X_train[0:1])"
      ],
      "metadata": {
        "colab": {
          "base_uri": "https://localhost:8080/"
        },
        "id": "SuWk1WQ4JCCb",
        "outputId": "546aa6ea-6262-46a2-9d28-ca0878c3747d"
      },
      "execution_count": null,
      "outputs": [
        {
          "output_type": "execute_result",
          "data": {
            "text/plain": [
              "array([1])"
            ]
          },
          "metadata": {},
          "execution_count": 46
        }
      ]
    },
    {
      "cell_type": "code",
      "source": [
        "pickle.dump(clf, open('model.pkl', 'wb'))"
      ],
      "metadata": {
        "id": "RIVfeN5fL-uB"
      },
      "execution_count": null,
      "outputs": []
    },
    {
      "cell_type": "code",
      "source": [
        "# pickled_model = pickle.load(open('model.pkl', 'rb'))\n",
        "# pickled_model.predict(X_test)\n"
      ],
      "metadata": {
        "id": "IvG2IZ_qMbnY"
      },
      "execution_count": null,
      "outputs": []
    },
    {
      "cell_type": "code",
      "source": [
        "from google.colab import drive"
      ],
      "metadata": {
        "id": "Pf6muAPHMnoA"
      },
      "execution_count": null,
      "outputs": []
    },
    {
      "cell_type": "code",
      "source": [
        "drive.mount('gdrive')"
      ],
      "metadata": {
        "colab": {
          "base_uri": "https://localhost:8080/"
        },
        "id": "k8hvu-BcM7JL",
        "outputId": "83fc7653-a461-4915-bb6c-268d7137b7b2"
      },
      "execution_count": null,
      "outputs": [
        {
          "output_type": "stream",
          "name": "stdout",
          "text": [
            "Mounted at gdrive\n"
          ]
        }
      ]
    },
    {
      "cell_type": "code",
      "source": [
        "! ls '/content/gdrive/MyDrive'"
      ],
      "metadata": {
        "id": "pdgox89tM9MM"
      },
      "execution_count": null,
      "outputs": []
    },
    {
      "cell_type": "code",
      "source": [
        "pickle.dump(clf, open('/content/gdrive/MyDrive/model.pkl', 'wb'))"
      ],
      "metadata": {
        "id": "ezaS0fKGNGN2"
      },
      "execution_count": null,
      "outputs": []
    },
    {
      "cell_type": "code",
      "source": [],
      "metadata": {
        "id": "WDcHIx8dNZJg"
      },
      "execution_count": null,
      "outputs": []
    }
  ],
  "metadata": {
    "colab": {
      "provenance": []
    },
    "kernelspec": {
      "display_name": "Python 3",
      "name": "python3"
    },
    "language_info": {
      "name": "python"
    }
  },
  "nbformat": 4,
  "nbformat_minor": 0
}